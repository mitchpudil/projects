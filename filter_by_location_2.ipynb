{
 "cells": [
  {
   "cell_type": "markdown",
   "metadata": {},
   "source": [
    "# Example: Finding images within given radius of location"
   ]
  },
  {
   "cell_type": "code",
   "execution_count": 1,
   "metadata": {},
   "outputs": [],
   "source": [
    "import pandas as pd\n",
    "import math\n",
    "import mysql.connector\n",
    "from timeit import timeit\n",
    "import credentials.py as cr\n",
    "import filter_by_location.py as fbl"
   ]
  },
  {
   "cell_type": "code",
   "execution_count": 7,
   "metadata": {},
   "outputs": [
    {
     "name": "stdout",
     "output_type": "stream",
     "text": [
      "Total number of unique images in given table: 1378537\n",
      "Number of images within box: 16180\n",
      "Number of images within radius: 16177\n"
     ]
    },
    {
     "data": {
      "text/html": [
       "<div>\n",
       "<style scoped>\n",
       "    .dataframe tbody tr th:only-of-type {\n",
       "        vertical-align: middle;\n",
       "    }\n",
       "\n",
       "    .dataframe tbody tr th {\n",
       "        vertical-align: top;\n",
       "    }\n",
       "\n",
       "    .dataframe thead th {\n",
       "        text-align: right;\n",
       "    }\n",
       "</style>\n",
       "<table border=\"1\" class=\"dataframe\">\n",
       "  <thead>\n",
       "    <tr style=\"text-align: right;\">\n",
       "      <th></th>\n",
       "      <th>pid</th>\n",
       "      <th>latitude</th>\n",
       "      <th>longitude</th>\n",
       "    </tr>\n",
       "  </thead>\n",
       "  <tbody>\n",
       "    <tr>\n",
       "      <th>0</th>\n",
       "      <td>645096</td>\n",
       "      <td>36.1410</td>\n",
       "      <td>-95.9726</td>\n",
       "    </tr>\n",
       "    <tr>\n",
       "      <th>1</th>\n",
       "      <td>645140</td>\n",
       "      <td>36.1410</td>\n",
       "      <td>-95.9726</td>\n",
       "    </tr>\n",
       "    <tr>\n",
       "      <th>2</th>\n",
       "      <td>645176</td>\n",
       "      <td>36.1410</td>\n",
       "      <td>-95.9726</td>\n",
       "    </tr>\n",
       "    <tr>\n",
       "      <th>3</th>\n",
       "      <td>645222</td>\n",
       "      <td>36.1410</td>\n",
       "      <td>-95.9726</td>\n",
       "    </tr>\n",
       "    <tr>\n",
       "      <th>4</th>\n",
       "      <td>645278</td>\n",
       "      <td>36.1410</td>\n",
       "      <td>-95.9726</td>\n",
       "    </tr>\n",
       "    <tr>\n",
       "      <th>...</th>\n",
       "      <td>...</td>\n",
       "      <td>...</td>\n",
       "      <td>...</td>\n",
       "    </tr>\n",
       "    <tr>\n",
       "      <th>16172</th>\n",
       "      <td>49896371346</td>\n",
       "      <td>36.1437</td>\n",
       "      <td>-95.9848</td>\n",
       "    </tr>\n",
       "    <tr>\n",
       "      <th>16173</th>\n",
       "      <td>49927487288</td>\n",
       "      <td>36.1385</td>\n",
       "      <td>-95.9617</td>\n",
       "    </tr>\n",
       "    <tr>\n",
       "      <th>16174</th>\n",
       "      <td>49928009386</td>\n",
       "      <td>36.1385</td>\n",
       "      <td>-95.9617</td>\n",
       "    </tr>\n",
       "    <tr>\n",
       "      <th>16175</th>\n",
       "      <td>49931609806</td>\n",
       "      <td>36.1384</td>\n",
       "      <td>-95.9619</td>\n",
       "    </tr>\n",
       "    <tr>\n",
       "      <th>16176</th>\n",
       "      <td>49936180221</td>\n",
       "      <td>36.1297</td>\n",
       "      <td>-95.9839</td>\n",
       "    </tr>\n",
       "  </tbody>\n",
       "</table>\n",
       "<p>16177 rows × 3 columns</p>\n",
       "</div>"
      ],
      "text/plain": [
       "               pid  latitude  longitude\n",
       "0           645096   36.1410   -95.9726\n",
       "1           645140   36.1410   -95.9726\n",
       "2           645176   36.1410   -95.9726\n",
       "3           645222   36.1410   -95.9726\n",
       "4           645278   36.1410   -95.9726\n",
       "...            ...       ...        ...\n",
       "16172  49896371346   36.1437   -95.9848\n",
       "16173  49927487288   36.1385   -95.9617\n",
       "16174  49928009386   36.1385   -95.9617\n",
       "16175  49931609806   36.1384   -95.9619\n",
       "16176  49936180221   36.1297   -95.9839\n",
       "\n",
       "[16177 rows x 3 columns]"
      ]
     },
     "execution_count": 7,
     "metadata": {},
     "output_type": "execute_result"
    }
   ],
   "source": [
    "con = mysql.connector.connect(host=cr.host, user=cr.user, passwd=cr.password , db=cr.database)\n",
    "cur = con.cursor(buffered=True)   \n",
    "\n",
    "fbl.close_urls(cur=cur, loc_table_name = cr.loc_table_name, current_lat=36.1, current_lon=-96, radius=5)\n"
   ]
  },
  {
   "cell_type": "code",
   "execution_count": 8,
   "metadata": {},
   "outputs": [
    {
     "name": "stdout",
     "output_type": "stream",
     "text": [
      "1.77 s ± 71.1 ms per loop (mean ± std. dev. of 7 runs, 1 loop each)\n"
     ]
    }
   ],
   "source": [
    "%timeit close_urls(cur=cur, loc_table_name = cr.loc_table_name, current_lat=36.1, \n",
    "                   current_lon=-96, radius=5, printout=False)"
   ]
  }
 ],
 "metadata": {
  "kernelspec": {
   "display_name": "Python 3",
   "language": "python",
   "name": "python3"
  },
  "language_info": {
   "codemirror_mode": {
    "name": "ipython",
    "version": 3
   },
   "file_extension": ".py",
   "mimetype": "text/x-python",
   "name": "python",
   "nbconvert_exporter": "python",
   "pygments_lexer": "ipython3",
   "version": "3.7.6"
  }
 },
 "nbformat": 4,
 "nbformat_minor": 4
}
